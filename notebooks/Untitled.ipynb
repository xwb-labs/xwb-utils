{
 "cells": [
  {
   "cell_type": "code",
   "execution_count": 1,
   "id": "9e55f73b",
   "metadata": {},
   "outputs": [
    {
     "data": {
      "text/plain": [
       "'/data'"
      ]
     },
     "execution_count": 1,
     "metadata": {},
     "output_type": "execute_result"
    }
   ],
   "source": [
    "import os\n",
    "os.getenv('DATADIR')"
   ]
  },
  {
   "cell_type": "code",
   "execution_count": 3,
   "id": "2f3ca84a",
   "metadata": {},
   "outputs": [],
   "source": [
    "with open('/data/foo.txt', 'w') as f:\n",
    "    print('baz', file=f)"
   ]
  },
  {
   "cell_type": "code",
   "execution_count": 4,
   "id": "65be84fb",
   "metadata": {},
   "outputs": [],
   "source": [
    "import pandas as pd"
   ]
  },
  {
   "cell_type": "code",
   "execution_count": null,
   "id": "107c94a3",
   "metadata": {},
   "outputs": [],
   "source": []
  }
 ],
 "metadata": {
  "kernelspec": {
   "display_name": "Python 3 (ipykernel)",
   "language": "python",
   "name": "python3"
  },
  "language_info": {
   "codemirror_mode": {
    "name": "ipython",
    "version": 3
   },
   "file_extension": ".py",
   "mimetype": "text/x-python",
   "name": "python",
   "nbconvert_exporter": "python",
   "pygments_lexer": "ipython3",
   "version": "3.9.12"
  }
 },
 "nbformat": 4,
 "nbformat_minor": 5
}
